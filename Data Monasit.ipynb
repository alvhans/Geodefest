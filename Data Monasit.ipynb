{
 "cells": [
  {
   "cell_type": "code",
   "execution_count": 1,
   "metadata": {},
   "outputs": [],
   "source": [
    "import pandas as pd\n",
    "import numpy as np\n",
    "import matplotlib.pyplot as plt\n",
    "from mpl_toolkits import mplot3d\n",
    "%matplotlib notebook"
   ]
  },
  {
   "cell_type": "markdown",
   "metadata": {},
   "source": [
    "# DATA"
   ]
  },
  {
   "cell_type": "code",
   "execution_count": 2,
   "metadata": {},
   "outputs": [
    {
     "data": {
      "text/html": [
       "<div>\n",
       "<style scoped>\n",
       "    .dataframe tbody tr th:only-of-type {\n",
       "        vertical-align: middle;\n",
       "    }\n",
       "\n",
       "    .dataframe tbody tr th {\n",
       "        vertical-align: top;\n",
       "    }\n",
       "\n",
       "    .dataframe thead th {\n",
       "        text-align: right;\n",
       "    }\n",
       "</style>\n",
       "<table border=\"1\" class=\"dataframe\">\n",
       "  <thead>\n",
       "    <tr style=\"text-align: right;\">\n",
       "      <th></th>\n",
       "      <th>Sample</th>\n",
       "      <th>BT</th>\n",
       "      <th>LS</th>\n",
       "      <th>Radioaktivitas (c/s)</th>\n",
       "      <th>Kadar U (ppm)</th>\n",
       "      <th>Kadar Th (ppm)</th>\n",
       "      <th>Kadar REE (ppm)</th>\n",
       "      <th>Normalisasi Th</th>\n",
       "      <th>Normalisasi REE</th>\n",
       "    </tr>\n",
       "  </thead>\n",
       "  <tbody>\n",
       "    <tr>\n",
       "      <td>1</td>\n",
       "      <td>1.0</td>\n",
       "      <td>798759.0</td>\n",
       "      <td>9690518.0</td>\n",
       "      <td>15.0</td>\n",
       "      <td>260.9</td>\n",
       "      <td>1687.00</td>\n",
       "      <td>5.70</td>\n",
       "      <td>41.073106</td>\n",
       "      <td>2.387467</td>\n",
       "    </tr>\n",
       "    <tr>\n",
       "      <td>2</td>\n",
       "      <td>2.0</td>\n",
       "      <td>798706.0</td>\n",
       "      <td>9690544.0</td>\n",
       "      <td>80.0</td>\n",
       "      <td>85.9</td>\n",
       "      <td>492.00</td>\n",
       "      <td>2.15</td>\n",
       "      <td>22.181073</td>\n",
       "      <td>1.466288</td>\n",
       "    </tr>\n",
       "    <tr>\n",
       "      <td>3</td>\n",
       "      <td>5.0</td>\n",
       "      <td>801740.0</td>\n",
       "      <td>9688914.0</td>\n",
       "      <td>100.0</td>\n",
       "      <td>201.0</td>\n",
       "      <td>2021.50</td>\n",
       "      <td>5.15</td>\n",
       "      <td>44.961094</td>\n",
       "      <td>2.269361</td>\n",
       "    </tr>\n",
       "    <tr>\n",
       "      <td>4</td>\n",
       "      <td>6.0</td>\n",
       "      <td>801304.0</td>\n",
       "      <td>9688940.0</td>\n",
       "      <td>110.0</td>\n",
       "      <td>187.0</td>\n",
       "      <td>1110.00</td>\n",
       "      <td>3.60</td>\n",
       "      <td>33.316662</td>\n",
       "      <td>1.897367</td>\n",
       "    </tr>\n",
       "    <tr>\n",
       "      <td>5</td>\n",
       "      <td>8.0</td>\n",
       "      <td>800332.0</td>\n",
       "      <td>9686522.0</td>\n",
       "      <td>65.0</td>\n",
       "      <td>48.4</td>\n",
       "      <td>512.00</td>\n",
       "      <td>1.45</td>\n",
       "      <td>22.627417</td>\n",
       "      <td>1.204159</td>\n",
       "    </tr>\n",
       "    <tr>\n",
       "      <td>6</td>\n",
       "      <td>17.0</td>\n",
       "      <td>800498.0</td>\n",
       "      <td>9693933.0</td>\n",
       "      <td>130.0</td>\n",
       "      <td>106.1</td>\n",
       "      <td>1090.00</td>\n",
       "      <td>2.50</td>\n",
       "      <td>33.015148</td>\n",
       "      <td>1.581139</td>\n",
       "    </tr>\n",
       "    <tr>\n",
       "      <td>7</td>\n",
       "      <td>18.0</td>\n",
       "      <td>799948.0</td>\n",
       "      <td>9694486.0</td>\n",
       "      <td>270.0</td>\n",
       "      <td>639.4</td>\n",
       "      <td>4250.00</td>\n",
       "      <td>8.60</td>\n",
       "      <td>65.192024</td>\n",
       "      <td>2.932576</td>\n",
       "    </tr>\n",
       "    <tr>\n",
       "      <td>8</td>\n",
       "      <td>20.0</td>\n",
       "      <td>799864.0</td>\n",
       "      <td>9692542.0</td>\n",
       "      <td>75.0</td>\n",
       "      <td>67.8</td>\n",
       "      <td>837.50</td>\n",
       "      <td>2.20</td>\n",
       "      <td>28.939592</td>\n",
       "      <td>1.483240</td>\n",
       "    </tr>\n",
       "    <tr>\n",
       "      <td>9</td>\n",
       "      <td>23.0</td>\n",
       "      <td>799400.0</td>\n",
       "      <td>9691749.0</td>\n",
       "      <td>390.0</td>\n",
       "      <td>533.4</td>\n",
       "      <td>4495.00</td>\n",
       "      <td>13.35</td>\n",
       "      <td>67.044761</td>\n",
       "      <td>3.653765</td>\n",
       "    </tr>\n",
       "    <tr>\n",
       "      <td>10</td>\n",
       "      <td>25.0</td>\n",
       "      <td>799762.0</td>\n",
       "      <td>9690798.0</td>\n",
       "      <td>140.0</td>\n",
       "      <td>344.3</td>\n",
       "      <td>4050.00</td>\n",
       "      <td>9.40</td>\n",
       "      <td>63.639610</td>\n",
       "      <td>3.065942</td>\n",
       "    </tr>\n",
       "    <tr>\n",
       "      <td>11</td>\n",
       "      <td>30.0</td>\n",
       "      <td>797377.0</td>\n",
       "      <td>9690537.0</td>\n",
       "      <td>90.0</td>\n",
       "      <td>252.5</td>\n",
       "      <td>1988.75</td>\n",
       "      <td>4.75</td>\n",
       "      <td>44.595403</td>\n",
       "      <td>2.179449</td>\n",
       "    </tr>\n",
       "    <tr>\n",
       "      <td>12</td>\n",
       "      <td>35.0</td>\n",
       "      <td>799390.0</td>\n",
       "      <td>9686018.0</td>\n",
       "      <td>210.0</td>\n",
       "      <td>378.6</td>\n",
       "      <td>3645.00</td>\n",
       "      <td>10.60</td>\n",
       "      <td>60.373835</td>\n",
       "      <td>3.255764</td>\n",
       "    </tr>\n",
       "    <tr>\n",
       "      <td>13</td>\n",
       "      <td>36.0</td>\n",
       "      <td>798525.0</td>\n",
       "      <td>9690614.0</td>\n",
       "      <td>230.0</td>\n",
       "      <td>360.8</td>\n",
       "      <td>1972.50</td>\n",
       "      <td>4.80</td>\n",
       "      <td>44.412836</td>\n",
       "      <td>2.190890</td>\n",
       "    </tr>\n",
       "    <tr>\n",
       "      <td>14</td>\n",
       "      <td>39.0</td>\n",
       "      <td>799833.0</td>\n",
       "      <td>9689919.0</td>\n",
       "      <td>180.0</td>\n",
       "      <td>262.0</td>\n",
       "      <td>962.50</td>\n",
       "      <td>5.00</td>\n",
       "      <td>31.024184</td>\n",
       "      <td>2.236068</td>\n",
       "    </tr>\n",
       "    <tr>\n",
       "      <td>15</td>\n",
       "      <td>41.0</td>\n",
       "      <td>804261.0</td>\n",
       "      <td>9688694.0</td>\n",
       "      <td>230.0</td>\n",
       "      <td>371.0</td>\n",
       "      <td>2024.00</td>\n",
       "      <td>5.65</td>\n",
       "      <td>44.988888</td>\n",
       "      <td>2.376973</td>\n",
       "    </tr>\n",
       "    <tr>\n",
       "      <td>16</td>\n",
       "      <td>42.0</td>\n",
       "      <td>805326.0</td>\n",
       "      <td>9690358.0</td>\n",
       "      <td>17.0</td>\n",
       "      <td>201.0</td>\n",
       "      <td>1557.50</td>\n",
       "      <td>4.25</td>\n",
       "      <td>39.465175</td>\n",
       "      <td>2.061553</td>\n",
       "    </tr>\n",
       "    <tr>\n",
       "      <td>17</td>\n",
       "      <td>43.0</td>\n",
       "      <td>804587.0</td>\n",
       "      <td>9691814.0</td>\n",
       "      <td>180.0</td>\n",
       "      <td>181.0</td>\n",
       "      <td>1557.50</td>\n",
       "      <td>2.80</td>\n",
       "      <td>39.465175</td>\n",
       "      <td>1.673320</td>\n",
       "    </tr>\n",
       "    <tr>\n",
       "      <td>18</td>\n",
       "      <td>44.0</td>\n",
       "      <td>802416.0</td>\n",
       "      <td>9688324.0</td>\n",
       "      <td>14.0</td>\n",
       "      <td>192.0</td>\n",
       "      <td>1907.80</td>\n",
       "      <td>4.70</td>\n",
       "      <td>43.678370</td>\n",
       "      <td>2.167948</td>\n",
       "    </tr>\n",
       "    <tr>\n",
       "      <td>19</td>\n",
       "      <td>46.0</td>\n",
       "      <td>803892.0</td>\n",
       "      <td>9687185.0</td>\n",
       "      <td>65.0</td>\n",
       "      <td>337.5</td>\n",
       "      <td>1909.25</td>\n",
       "      <td>2.45</td>\n",
       "      <td>43.694965</td>\n",
       "      <td>1.565248</td>\n",
       "    </tr>\n",
       "    <tr>\n",
       "      <td>20</td>\n",
       "      <td>48.0</td>\n",
       "      <td>801850.0</td>\n",
       "      <td>9691045.0</td>\n",
       "      <td>120.0</td>\n",
       "      <td>331.5</td>\n",
       "      <td>2955.00</td>\n",
       "      <td>5.00</td>\n",
       "      <td>54.359912</td>\n",
       "      <td>2.236068</td>\n",
       "    </tr>\n",
       "    <tr>\n",
       "      <td>21</td>\n",
       "      <td>49.0</td>\n",
       "      <td>800896.0</td>\n",
       "      <td>9690590.0</td>\n",
       "      <td>35.0</td>\n",
       "      <td>210.0</td>\n",
       "      <td>2041.50</td>\n",
       "      <td>5.65</td>\n",
       "      <td>45.182961</td>\n",
       "      <td>2.376973</td>\n",
       "    </tr>\n",
       "    <tr>\n",
       "      <td>22</td>\n",
       "      <td>53.0</td>\n",
       "      <td>799348.0</td>\n",
       "      <td>9686448.0</td>\n",
       "      <td>60.0</td>\n",
       "      <td>152.0</td>\n",
       "      <td>1545.00</td>\n",
       "      <td>3.55</td>\n",
       "      <td>39.306488</td>\n",
       "      <td>1.884144</td>\n",
       "    </tr>\n",
       "    <tr>\n",
       "      <td>23</td>\n",
       "      <td>54.0</td>\n",
       "      <td>804085.0</td>\n",
       "      <td>9685932.0</td>\n",
       "      <td>70.0</td>\n",
       "      <td>372.4</td>\n",
       "      <td>3487.50</td>\n",
       "      <td>7.95</td>\n",
       "      <td>59.055059</td>\n",
       "      <td>2.819574</td>\n",
       "    </tr>\n",
       "    <tr>\n",
       "      <td>24</td>\n",
       "      <td>55.0</td>\n",
       "      <td>803047.0</td>\n",
       "      <td>9686124.0</td>\n",
       "      <td>60.0</td>\n",
       "      <td>216.0</td>\n",
       "      <td>1685.00</td>\n",
       "      <td>3.75</td>\n",
       "      <td>41.048752</td>\n",
       "      <td>1.936492</td>\n",
       "    </tr>\n",
       "    <tr>\n",
       "      <td>25</td>\n",
       "      <td>56.0</td>\n",
       "      <td>802234.0</td>\n",
       "      <td>9687087.0</td>\n",
       "      <td>95.0</td>\n",
       "      <td>249.6</td>\n",
       "      <td>1370.00</td>\n",
       "      <td>3.45</td>\n",
       "      <td>37.013511</td>\n",
       "      <td>1.857418</td>\n",
       "    </tr>\n",
       "    <tr>\n",
       "      <td>26</td>\n",
       "      <td>59.0</td>\n",
       "      <td>804592.0</td>\n",
       "      <td>9690038.0</td>\n",
       "      <td>65.0</td>\n",
       "      <td>260.1</td>\n",
       "      <td>2890.00</td>\n",
       "      <td>5.85</td>\n",
       "      <td>53.758720</td>\n",
       "      <td>2.418677</td>\n",
       "    </tr>\n",
       "    <tr>\n",
       "      <td>27</td>\n",
       "      <td>60.0</td>\n",
       "      <td>804739.0</td>\n",
       "      <td>9689154.0</td>\n",
       "      <td>125.0</td>\n",
       "      <td>442.6</td>\n",
       "      <td>3345.00</td>\n",
       "      <td>8.60</td>\n",
       "      <td>57.835975</td>\n",
       "      <td>2.932576</td>\n",
       "    </tr>\n",
       "    <tr>\n",
       "      <td>28</td>\n",
       "      <td>61.0</td>\n",
       "      <td>805090.0</td>\n",
       "      <td>9688091.0</td>\n",
       "      <td>60.0</td>\n",
       "      <td>489.0</td>\n",
       "      <td>3747.50</td>\n",
       "      <td>12.95</td>\n",
       "      <td>61.216828</td>\n",
       "      <td>3.598611</td>\n",
       "    </tr>\n",
       "    <tr>\n",
       "      <td>29</td>\n",
       "      <td>62.0</td>\n",
       "      <td>805610.0</td>\n",
       "      <td>9688818.0</td>\n",
       "      <td>50.0</td>\n",
       "      <td>476.6</td>\n",
       "      <td>995.00</td>\n",
       "      <td>13.60</td>\n",
       "      <td>31.543621</td>\n",
       "      <td>3.687818</td>\n",
       "    </tr>\n",
       "    <tr>\n",
       "      <td>30</td>\n",
       "      <td>63.0</td>\n",
       "      <td>805509.0</td>\n",
       "      <td>9687369.0</td>\n",
       "      <td>75.0</td>\n",
       "      <td>415.1</td>\n",
       "      <td>2582.50</td>\n",
       "      <td>4.45</td>\n",
       "      <td>50.818304</td>\n",
       "      <td>2.109502</td>\n",
       "    </tr>\n",
       "    <tr>\n",
       "      <td>31</td>\n",
       "      <td>65.0</td>\n",
       "      <td>806402.0</td>\n",
       "      <td>9689393.0</td>\n",
       "      <td>50.0</td>\n",
       "      <td>260.7</td>\n",
       "      <td>1165.50</td>\n",
       "      <td>4.50</td>\n",
       "      <td>34.139420</td>\n",
       "      <td>2.121320</td>\n",
       "    </tr>\n",
       "    <tr>\n",
       "      <td>32</td>\n",
       "      <td>66.0</td>\n",
       "      <td>807439.0</td>\n",
       "      <td>9688990.0</td>\n",
       "      <td>75.0</td>\n",
       "      <td>698.4</td>\n",
       "      <td>6545.00</td>\n",
       "      <td>18.45</td>\n",
       "      <td>80.901174</td>\n",
       "      <td>4.295346</td>\n",
       "    </tr>\n",
       "    <tr>\n",
       "      <td>33</td>\n",
       "      <td>67.0</td>\n",
       "      <td>807259.0</td>\n",
       "      <td>9688516.0</td>\n",
       "      <td>200.0</td>\n",
       "      <td>515.6</td>\n",
       "      <td>5025.00</td>\n",
       "      <td>11.05</td>\n",
       "      <td>70.887234</td>\n",
       "      <td>3.324154</td>\n",
       "    </tr>\n",
       "    <tr>\n",
       "      <td>34</td>\n",
       "      <td>72.0</td>\n",
       "      <td>805251.0</td>\n",
       "      <td>9686006.0</td>\n",
       "      <td>1000.0</td>\n",
       "      <td>781.1</td>\n",
       "      <td>7470.00</td>\n",
       "      <td>20.10</td>\n",
       "      <td>86.429162</td>\n",
       "      <td>4.483302</td>\n",
       "    </tr>\n",
       "    <tr>\n",
       "      <td>35</td>\n",
       "      <td>73.0</td>\n",
       "      <td>803701.0</td>\n",
       "      <td>9689654.0</td>\n",
       "      <td>45.0</td>\n",
       "      <td>113.0</td>\n",
       "      <td>640.00</td>\n",
       "      <td>1.60</td>\n",
       "      <td>25.298221</td>\n",
       "      <td>1.264911</td>\n",
       "    </tr>\n",
       "    <tr>\n",
       "      <td>36</td>\n",
       "      <td>74.0</td>\n",
       "      <td>802925.0</td>\n",
       "      <td>9688699.0</td>\n",
       "      <td>150.0</td>\n",
       "      <td>255.6</td>\n",
       "      <td>1442.50</td>\n",
       "      <td>4.65</td>\n",
       "      <td>37.980258</td>\n",
       "      <td>2.156386</td>\n",
       "    </tr>\n",
       "    <tr>\n",
       "      <td>37</td>\n",
       "      <td>75.0</td>\n",
       "      <td>806558.0</td>\n",
       "      <td>9688428.0</td>\n",
       "      <td>500.0</td>\n",
       "      <td>567.6</td>\n",
       "      <td>4892.00</td>\n",
       "      <td>13.70</td>\n",
       "      <td>69.942834</td>\n",
       "      <td>3.701351</td>\n",
       "    </tr>\n",
       "    <tr>\n",
       "      <td>38</td>\n",
       "      <td>76.0</td>\n",
       "      <td>797531.0</td>\n",
       "      <td>9693617.0</td>\n",
       "      <td>700.0</td>\n",
       "      <td>552.1</td>\n",
       "      <td>5310.00</td>\n",
       "      <td>14.65</td>\n",
       "      <td>72.869747</td>\n",
       "      <td>3.827532</td>\n",
       "    </tr>\n",
       "    <tr>\n",
       "      <td>39</td>\n",
       "      <td>77.0</td>\n",
       "      <td>796706.0</td>\n",
       "      <td>9691709.0</td>\n",
       "      <td>75.0</td>\n",
       "      <td>174.0</td>\n",
       "      <td>600.00</td>\n",
       "      <td>2.55</td>\n",
       "      <td>24.494897</td>\n",
       "      <td>1.596872</td>\n",
       "    </tr>\n",
       "    <tr>\n",
       "      <td>40</td>\n",
       "      <td>78.0</td>\n",
       "      <td>796332.0</td>\n",
       "      <td>9692978.0</td>\n",
       "      <td>400.0</td>\n",
       "      <td>353.6</td>\n",
       "      <td>3362.50</td>\n",
       "      <td>4.93</td>\n",
       "      <td>57.987068</td>\n",
       "      <td>2.220360</td>\n",
       "    </tr>\n",
       "  </tbody>\n",
       "</table>\n",
       "</div>"
      ],
      "text/plain": [
       "    Sample        BT         LS  Radioaktivitas (c/s)  Kadar U (ppm)  \\\n",
       "1      1.0  798759.0  9690518.0                  15.0          260.9   \n",
       "2      2.0  798706.0  9690544.0                  80.0           85.9   \n",
       "3      5.0  801740.0  9688914.0                 100.0          201.0   \n",
       "4      6.0  801304.0  9688940.0                 110.0          187.0   \n",
       "5      8.0  800332.0  9686522.0                  65.0           48.4   \n",
       "6     17.0  800498.0  9693933.0                 130.0          106.1   \n",
       "7     18.0  799948.0  9694486.0                 270.0          639.4   \n",
       "8     20.0  799864.0  9692542.0                  75.0           67.8   \n",
       "9     23.0  799400.0  9691749.0                 390.0          533.4   \n",
       "10    25.0  799762.0  9690798.0                 140.0          344.3   \n",
       "11    30.0  797377.0  9690537.0                  90.0          252.5   \n",
       "12    35.0  799390.0  9686018.0                 210.0          378.6   \n",
       "13    36.0  798525.0  9690614.0                 230.0          360.8   \n",
       "14    39.0  799833.0  9689919.0                 180.0          262.0   \n",
       "15    41.0  804261.0  9688694.0                 230.0          371.0   \n",
       "16    42.0  805326.0  9690358.0                  17.0          201.0   \n",
       "17    43.0  804587.0  9691814.0                 180.0          181.0   \n",
       "18    44.0  802416.0  9688324.0                  14.0          192.0   \n",
       "19    46.0  803892.0  9687185.0                  65.0          337.5   \n",
       "20    48.0  801850.0  9691045.0                 120.0          331.5   \n",
       "21    49.0  800896.0  9690590.0                  35.0          210.0   \n",
       "22    53.0  799348.0  9686448.0                  60.0          152.0   \n",
       "23    54.0  804085.0  9685932.0                  70.0          372.4   \n",
       "24    55.0  803047.0  9686124.0                  60.0          216.0   \n",
       "25    56.0  802234.0  9687087.0                  95.0          249.6   \n",
       "26    59.0  804592.0  9690038.0                  65.0          260.1   \n",
       "27    60.0  804739.0  9689154.0                 125.0          442.6   \n",
       "28    61.0  805090.0  9688091.0                  60.0          489.0   \n",
       "29    62.0  805610.0  9688818.0                  50.0          476.6   \n",
       "30    63.0  805509.0  9687369.0                  75.0          415.1   \n",
       "31    65.0  806402.0  9689393.0                  50.0          260.7   \n",
       "32    66.0  807439.0  9688990.0                  75.0          698.4   \n",
       "33    67.0  807259.0  9688516.0                 200.0          515.6   \n",
       "34    72.0  805251.0  9686006.0                1000.0          781.1   \n",
       "35    73.0  803701.0  9689654.0                  45.0          113.0   \n",
       "36    74.0  802925.0  9688699.0                 150.0          255.6   \n",
       "37    75.0  806558.0  9688428.0                 500.0          567.6   \n",
       "38    76.0  797531.0  9693617.0                 700.0          552.1   \n",
       "39    77.0  796706.0  9691709.0                  75.0          174.0   \n",
       "40    78.0  796332.0  9692978.0                 400.0          353.6   \n",
       "\n",
       "    Kadar Th (ppm)  Kadar REE (ppm)  Normalisasi Th  Normalisasi REE  \n",
       "1          1687.00             5.70       41.073106         2.387467  \n",
       "2           492.00             2.15       22.181073         1.466288  \n",
       "3          2021.50             5.15       44.961094         2.269361  \n",
       "4          1110.00             3.60       33.316662         1.897367  \n",
       "5           512.00             1.45       22.627417         1.204159  \n",
       "6          1090.00             2.50       33.015148         1.581139  \n",
       "7          4250.00             8.60       65.192024         2.932576  \n",
       "8           837.50             2.20       28.939592         1.483240  \n",
       "9          4495.00            13.35       67.044761         3.653765  \n",
       "10         4050.00             9.40       63.639610         3.065942  \n",
       "11         1988.75             4.75       44.595403         2.179449  \n",
       "12         3645.00            10.60       60.373835         3.255764  \n",
       "13         1972.50             4.80       44.412836         2.190890  \n",
       "14          962.50             5.00       31.024184         2.236068  \n",
       "15         2024.00             5.65       44.988888         2.376973  \n",
       "16         1557.50             4.25       39.465175         2.061553  \n",
       "17         1557.50             2.80       39.465175         1.673320  \n",
       "18         1907.80             4.70       43.678370         2.167948  \n",
       "19         1909.25             2.45       43.694965         1.565248  \n",
       "20         2955.00             5.00       54.359912         2.236068  \n",
       "21         2041.50             5.65       45.182961         2.376973  \n",
       "22         1545.00             3.55       39.306488         1.884144  \n",
       "23         3487.50             7.95       59.055059         2.819574  \n",
       "24         1685.00             3.75       41.048752         1.936492  \n",
       "25         1370.00             3.45       37.013511         1.857418  \n",
       "26         2890.00             5.85       53.758720         2.418677  \n",
       "27         3345.00             8.60       57.835975         2.932576  \n",
       "28         3747.50            12.95       61.216828         3.598611  \n",
       "29          995.00            13.60       31.543621         3.687818  \n",
       "30         2582.50             4.45       50.818304         2.109502  \n",
       "31         1165.50             4.50       34.139420         2.121320  \n",
       "32         6545.00            18.45       80.901174         4.295346  \n",
       "33         5025.00            11.05       70.887234         3.324154  \n",
       "34         7470.00            20.10       86.429162         4.483302  \n",
       "35          640.00             1.60       25.298221         1.264911  \n",
       "36         1442.50             4.65       37.980258         2.156386  \n",
       "37         4892.00            13.70       69.942834         3.701351  \n",
       "38         5310.00            14.65       72.869747         3.827532  \n",
       "39          600.00             2.55       24.494897         1.596872  \n",
       "40         3362.50             4.93       57.987068         2.220360  "
      ]
     },
     "execution_count": 2,
     "metadata": {},
     "output_type": "execute_result"
    }
   ],
   "source": [
    "df = pd.read_excel('DATA GEODEFEST.xlsx')\n",
    "df = df[1:]\n",
    "df"
   ]
  },
  {
   "cell_type": "markdown",
   "metadata": {},
   "source": [
    "# Correlation"
   ]
  },
  {
   "cell_type": "code",
   "execution_count": 3,
   "metadata": {},
   "outputs": [
    {
     "name": "stdout",
     "output_type": "stream",
     "text": [
      "Pearson Correlation U & Th : 0.890\n"
     ]
    }
   ],
   "source": [
    "from scipy import stats\n",
    "p_U_Th = stats.pearsonr(np.array(df['Kadar U (ppm)']), np.array(df['Kadar Th (ppm)']))\n",
    "print(f'Pearson Correlation U & Th : {p_U_Th[0]:.3f}')"
   ]
  },
  {
   "cell_type": "code",
   "execution_count": 4,
   "metadata": {},
   "outputs": [
    {
     "name": "stdout",
     "output_type": "stream",
     "text": [
      "Pearson Correlation U & REE : 0.899\n"
     ]
    }
   ],
   "source": [
    "p_U_REE = stats.pearsonr(np.array(df['Kadar U (ppm)']), np.array(df['Kadar REE (ppm)']))\n",
    "print(f'Pearson Correlation U & REE : {p_U_REE[0]:.3f}')"
   ]
  },
  {
   "cell_type": "code",
   "execution_count": 5,
   "metadata": {},
   "outputs": [
    {
     "name": "stdout",
     "output_type": "stream",
     "text": [
      "Pearson Correlation Th & REE : 0.876\n"
     ]
    }
   ],
   "source": [
    "p_Th_REE = stats.pearsonr(np.array(df['Kadar Th (ppm)']), np.array(df['Kadar REE (ppm)']))\n",
    "print(f'Pearson Correlation Th & REE : {p_Th_REE[0]:.3f}')"
   ]
  },
  {
   "cell_type": "code",
   "execution_count": 6,
   "metadata": {},
   "outputs": [
    {
     "name": "stdout",
     "output_type": "stream",
     "text": [
      "Pearson Correlation Rad & U : 0.631\n"
     ]
    }
   ],
   "source": [
    "p_Rad_U = stats.pearsonr(np.array(df['Radioaktivitas (c/s)']), np.array(df['Kadar U (ppm)']))\n",
    "print(f'Pearson Correlation Rad & U : {p_Rad_U[0]:.3f}')"
   ]
  },
  {
   "cell_type": "code",
   "execution_count": 7,
   "metadata": {},
   "outputs": [
    {
     "name": "stdout",
     "output_type": "stream",
     "text": [
      "Pearson Correlation Rad & Th : 0.679\n"
     ]
    }
   ],
   "source": [
    "p_Rad_Th = stats.pearsonr(np.array(df['Radioaktivitas (c/s)']), np.array(df['Kadar Th (ppm)']))\n",
    "print(f'Pearson Correlation Rad & Th : {p_Rad_Th[0]:.3f}')"
   ]
  },
  {
   "cell_type": "code",
   "execution_count": 8,
   "metadata": {},
   "outputs": [
    {
     "name": "stdout",
     "output_type": "stream",
     "text": [
      "Pearson Correlation Rad & REE : 0.619\n"
     ]
    }
   ],
   "source": [
    "p_Rad_REE = stats.pearsonr(np.array(df['Radioaktivitas (c/s)']), np.array(df['Kadar REE (ppm)']))\n",
    "print(f'Pearson Correlation Rad & REE : {p_Rad_REE[0]:.3f}')"
   ]
  },
  {
   "cell_type": "markdown",
   "metadata": {},
   "source": [
    "# GRAPH"
   ]
  },
  {
   "cell_type": "code",
   "execution_count": 9,
   "metadata": {},
   "outputs": [
    {
     "data": {
      "text/plain": [
       "Text(0.5, 0.92, 'simple 3D scatter plot')"
      ]
     },
     "execution_count": 9,
     "metadata": {},
     "output_type": "execute_result"
    },
    {
     "data": {
      "image/png": "[encoded data removed]",
      "text/plain": [
       "<Figure size 432x288 with 1 Axes>"
      ]
     },
     "metadata": {
      "needs_background": "light"
     },
     "output_type": "display_data"
    }
   ],
   "source": [
    "x = df['BT']\n",
    "y = df['LS']\n",
    "z = df['Kadar U (ppm)']\n",
    "\n",
    "fig = plt.figure()\n",
    "ax = plt.axes(projection =\"3d\")\n",
    " \n",
    "# Creating plot\n",
    "ax.scatter3D(x, y, z, color = \"green\")\n",
    "plt.title(\"simple 3D scatter plot\")"
   ]
  },
  {
   "cell_type": "markdown",
   "metadata": {},
   "source": [
    "# ML"
   ]
  },
  {
   "cell_type": "code",
   "execution_count": 10,
   "metadata": {},
   "outputs": [],
   "source": [
    "from sklearn.model_selection import train_test_split\n",
    "from sklearn.neighbors import KNeighborsRegressor\n",
    "from sklearn.ensemble import RandomForestRegressor\n",
    "from sklearn.neural_network import MLPRegressor\n",
    "from sklearn.svm import SVR\n",
    "from sklearn.tree import DecisionTreeRegressor\n",
    "from sklearn.model_selection import cross_val_score\n",
    "from sklearn.model_selection import RandomizedSearchCV\n",
    "from sklearn.metrics import mean_absolute_error\n",
    "from sklearn.model_selection import GridSearchCV\n",
    "from sklearn.preprocessing import MinMaxScaler"
   ]
  },
  {
   "cell_type": "markdown",
   "metadata": {},
   "source": [
    "DATA SPLIT"
   ]
  },
  {
   "cell_type": "code",
   "execution_count": 11,
   "metadata": {},
   "outputs": [],
   "source": [
    "X = df[['BT', 'LS']]\n",
    "y = df['Normalisasi Th']\n",
    "\n",
    "X2 = df[['BT', 'LS']]\n",
    "y2 = df['Normalisasi REE']\n",
    "\n",
    "scaler = MinMaxScaler()\n",
    "X_train, X_test, y_train, y_test = train_test_split(X, y, random_state=0)\n",
    "X2_train, X2_test, y2_train, y2_test = train_test_split(X2, y2, random_state=0)\n",
    "\n",
    "X_train_scaled = scaler.fit_transform(X_train)\n",
    "X_test_scaled = scaler.transform(X_test)\n",
    "\n",
    "#keknya data yang 'scaled' ga dipake"
   ]
  },
  {
   "cell_type": "markdown",
   "metadata": {},
   "source": [
    "## K-Neighbors Regressor"
   ]
  },
  {
   "cell_type": "markdown",
   "metadata": {},
   "source": [
    "RANDOM SEARCH"
   ]
  },
  {
   "cell_type": "code",
   "execution_count": 12,
   "metadata": {},
   "outputs": [],
   "source": [
    "n_neighbors = [3, 4, 5, 6, 7, 8, 9, 10]\n",
    "weights = ['uniform', 'distance']\n",
    "algorithm = ['auto', 'ball_tree', 'kd_tree', 'brute']\n",
    "leaf_size = [30, 40, 50, 60, 70]                         \n",
    "p = [1, 2]\n",
    "random_grid = {'n_neighbors': n_neighbors,\n",
    "               'weights': weights,\n",
    "               'algorithm': algorithm,\n",
    "               'leaf_size': leaf_size,\n",
    "               'p': p}"
   ]
  },
  {
   "cell_type": "code",
   "execution_count": 13,
   "metadata": {},
   "outputs": [
    {
     "name": "stdout",
     "output_type": "stream",
     "text": [
      "Fitting 5 folds for each of 100 candidates, totalling 500 fits\n"
     ]
    },
    {
     "data": {
      "text/plain": [
       "RandomizedSearchCV(cv=5, estimator=KNeighborsRegressor(), n_iter=100, n_jobs=-1,\n",
       "                   param_distributions={'algorithm': ['auto', 'ball_tree',\n",
       "                                                      'kd_tree', 'brute'],\n",
       "                                        'leaf_size': [30, 40, 50, 60, 70],\n",
       "                                        'n_neighbors': [3, 4, 5, 6, 7, 8, 9,\n",
       "                                                        10],\n",
       "                                        'p': [1, 2],\n",
       "                                        'weights': ['uniform', 'distance']},\n",
       "                   random_state=11, verbose=2)"
      ]
     },
     "execution_count": 13,
     "metadata": {},
     "output_type": "execute_result"
    }
   ],
   "source": [
    "knr = KNeighborsRegressor()\n",
    "knr_random = RandomizedSearchCV(estimator = knr, param_distributions = random_grid,\n",
    "                                n_iter = 100, cv = 5, verbose=2, random_state=11,\n",
    "                                n_jobs = -1)\n",
    "\n",
    "# Fit the random search model\n",
    "knr_random.fit(X_train, y_train)"
   ]
  },
  {
   "cell_type": "code",
   "execution_count": 14,
   "metadata": {},
   "outputs": [
    {
     "data": {
      "text/plain": [
       "-0.09027548841241492"
      ]
     },
     "execution_count": 14,
     "metadata": {},
     "output_type": "execute_result"
    }
   ],
   "source": [
    "knr_random.best_score_"
   ]
  },
  {
   "cell_type": "code",
   "execution_count": 15,
   "metadata": {},
   "outputs": [
    {
     "data": {
      "text/plain": [
       "{'weights': 'uniform',\n",
       " 'p': 1,\n",
       " 'n_neighbors': 9,\n",
       " 'leaf_size': 50,\n",
       " 'algorithm': 'auto'}"
      ]
     },
     "execution_count": 15,
     "metadata": {},
     "output_type": "execute_result"
    }
   ],
   "source": [
    "knr_random.best_params_"
   ]
  },
  {
   "cell_type": "code",
   "execution_count": 16,
   "metadata": {},
   "outputs": [
    {
     "name": "stdout",
     "output_type": "stream",
     "text": [
      "Model Performance\n",
      "MAE: 9.783073365226164\n",
      "Accuracy = 74.84%.\n"
     ]
    }
   ],
   "source": [
    "#Evaluasi RandomizedSearchCV\n",
    "def evaluate(model, test_features, test_labels):\n",
    "    predictions = model.predict(test_features)\n",
    "    errors = abs(predictions - test_labels)\n",
    "    mape = 100 * np.mean(errors / test_labels)\n",
    "    accuracy = 100 - mape\n",
    "    print('Model Performance')\n",
    "    print(f'MAE: {mean_absolute_error(test_labels, model.predict(test_features))}')\n",
    "    print('Accuracy = {:0.2f}%.'.format(accuracy))\n",
    "    \n",
    "    return accuracy\n",
    "\n",
    "\n",
    "base_model = knr\n",
    "base_model.fit(X_train, y_train)\n",
    "base_accuracy = evaluate(base_model, X_test, y_test)"
   ]
  },
  {
   "cell_type": "code",
   "execution_count": 17,
   "metadata": {},
   "outputs": [
    {
     "name": "stdout",
     "output_type": "stream",
     "text": [
      "Model Performance\n",
      "MAE: 11.086042355745183\n",
      "Accuracy = 70.91%.\n"
     ]
    }
   ],
   "source": [
    "best_random_knn = knr_random.best_estimator_\n",
    "random_accuracy_knn = evaluate(best_random_knn, X_test, y_test)"
   ]
  },
  {
   "cell_type": "markdown",
   "metadata": {},
   "source": [
    "GRID SEARCH"
   ]
  },
  {
   "cell_type": "code",
   "execution_count": 18,
   "metadata": {},
   "outputs": [
    {
     "name": "stdout",
     "output_type": "stream",
     "text": [
      "Fitting 5 folds for each of 640 candidates, totalling 3200 fits\n"
     ]
    },
    {
     "data": {
      "text/plain": [
       "GridSearchCV(cv=5, estimator=KNeighborsRegressor(), n_jobs=-1,\n",
       "             param_grid={'algorithm': ['auto', 'ball_tree', 'kd_tree', 'brute'],\n",
       "                         'leaf_size': [30, 40, 50, 60, 70],\n",
       "                         'n_neighbors': [3, 4, 5, 6, 7, 8, 9, 10], 'p': [1, 2],\n",
       "                         'weights': ['uniform', 'distance']},\n",
       "             verbose=2)"
      ]
     },
     "execution_count": 18,
     "metadata": {},
     "output_type": "execute_result"
    }
   ],
   "source": [
    "grid_search_knn = GridSearchCV(estimator = knr, param_grid = random_grid, cv = 5, n_jobs = -1, verbose = 2)\n",
    "grid_search_knn.fit(X_train, y_train)"
   ]
  },
  {
   "cell_type": "code",
   "execution_count": 19,
   "metadata": {},
   "outputs": [
    {
     "data": {
      "text/plain": [
       "-0.09027548841241492"
      ]
     },
     "execution_count": 19,
     "metadata": {},
     "output_type": "execute_result"
    }
   ],
   "source": [
    "grid_search_knn.best_score_"
   ]
  },
  {
   "cell_type": "code",
   "execution_count": 20,
   "metadata": {},
   "outputs": [
    {
     "data": {
      "text/plain": [
       "{'algorithm': 'auto',\n",
       " 'leaf_size': 30,\n",
       " 'n_neighbors': 9,\n",
       " 'p': 1,\n",
       " 'weights': 'uniform'}"
      ]
     },
     "execution_count": 20,
     "metadata": {},
     "output_type": "execute_result"
    }
   ],
   "source": [
    "grid_search_knn.best_params_"
   ]
  },
  {
   "cell_type": "code",
   "execution_count": 21,
   "metadata": {},
   "outputs": [
    {
     "name": "stdout",
     "output_type": "stream",
     "text": [
      "Model Performance\n",
      "MAE: 11.086042355745183\n",
      "Accuracy = 70.91%.\n"
     ]
    }
   ],
   "source": [
    "best_grid_knn = grid_search_knn.best_estimator_\n",
    "grid_accuracy = evaluate(best_grid_knn, X_test, y_test)"
   ]
  },
  {
   "cell_type": "markdown",
   "metadata": {},
   "source": [
    "DATA REE"
   ]
  },
  {
   "cell_type": "code",
   "execution_count": 94,
   "metadata": {},
   "outputs": [
    {
     "name": "stdout",
     "output_type": "stream",
     "text": [
      "Fitting 5 folds for each of 100 candidates, totalling 500 fits\n"
     ]
    },
    {
     "data": {
      "text/plain": [
       "RandomizedSearchCV(cv=5, estimator=KNeighborsRegressor(), n_iter=100, n_jobs=-1,\n",
       "                   param_distributions={'algorithm': ['auto', 'ball_tree',\n",
       "                                                      'kd_tree', 'brute'],\n",
       "                                        'leaf_size': [30, 40, 50, 60, 70],\n",
       "                                        'n_neighbors': [3, 4, 5, 6, 7, 8, 9,\n",
       "                                                        10],\n",
       "                                        'p': [1, 2],\n",
       "                                        'weights': ['uniform', 'distance']},\n",
       "                   random_state=11, verbose=2)"
      ]
     },
     "execution_count": 94,
     "metadata": {},
     "output_type": "execute_result"
    }
   ],
   "source": [
    "knr = KNeighborsRegressor()\n",
    "knr_random_REE = RandomizedSearchCV(estimator = knr, param_distributions = random_grid,\n",
    "                                    n_iter = 100, cv = 5, verbose=2, random_state=11,\n",
    "                                    n_jobs = -1)\n",
    "\n",
    "# Fit the random search model\n",
    "knr_random_REE.fit(X2_train, y2_train)"
   ]
  },
  {
   "cell_type": "code",
   "execution_count": 95,
   "metadata": {},
   "outputs": [
    {
     "data": {
      "text/plain": [
       "0.05755825734583102"
      ]
     },
     "execution_count": 95,
     "metadata": {},
     "output_type": "execute_result"
    }
   ],
   "source": [
    "knr_random_REE.best_score_"
   ]
  },
  {
   "cell_type": "code",
   "execution_count": 96,
   "metadata": {},
   "outputs": [
    {
     "data": {
      "text/plain": [
       "{'weights': 'uniform',\n",
       " 'p': 1,\n",
       " 'n_neighbors': 8,\n",
       " 'leaf_size': 60,\n",
       " 'algorithm': 'ball_tree'}"
      ]
     },
     "execution_count": 96,
     "metadata": {},
     "output_type": "execute_result"
    }
   ],
   "source": [
    "knr_random_REE.best_params_"
   ]
  },
  {
   "cell_type": "code",
   "execution_count": 97,
   "metadata": {},
   "outputs": [
    {
     "name": "stdout",
     "output_type": "stream",
     "text": [
      "Model Performance\n",
      "MAE: 0.5405690044662396\n",
      "Accuracy = 74.30%.\n"
     ]
    }
   ],
   "source": [
    "#Evaluasi RandomizedSearchCV\n",
    "def evaluate(model, test_features, test_labels):\n",
    "    predictions = model.predict(test_features)\n",
    "    errors = abs(predictions - test_labels)\n",
    "    mape = 100 * np.mean(errors / test_labels)\n",
    "    accuracy = 100 - mape\n",
    "    print('Model Performance')\n",
    "    print(f'MAE: {mean_absolute_error(test_labels, model.predict(test_features))}')\n",
    "    print('Accuracy = {:0.2f}%.'.format(accuracy))\n",
    "    \n",
    "    return accuracy\n",
    "\n",
    "\n",
    "base_model = knr\n",
    "base_model.fit(X2_train, y2_train)\n",
    "base_accuracy = evaluate(base_model, X2_test, y2_test)"
   ]
  },
  {
   "cell_type": "code",
   "execution_count": 98,
   "metadata": {},
   "outputs": [
    {
     "name": "stdout",
     "output_type": "stream",
     "text": [
      "Model Performance\n",
      "MAE: 0.6312784527018633\n",
      "Accuracy = 69.24%.\n"
     ]
    }
   ],
   "source": [
    "best_random_knn = knr_random_REE.best_estimator_\n",
    "random_accuracy_knn = evaluate(best_random_knn, X2_test, y2_test)"
   ]
  },
  {
   "cell_type": "code",
   "execution_count": 102,
   "metadata": {},
   "outputs": [
    {
     "name": "stdout",
     "output_type": "stream",
     "text": [
      "Fitting 5 folds for each of 640 candidates, totalling 3200 fits\n"
     ]
    },
    {
     "data": {
      "text/plain": [
       "GridSearchCV(cv=5, estimator=KNeighborsRegressor(), n_jobs=-1,\n",
       "             param_grid={'algorithm': ['auto', 'ball_tree', 'kd_tree', 'brute'],\n",
       "                         'leaf_size': [30, 40, 50, 60, 70],\n",
       "                         'n_neighbors': [3, 4, 5, 6, 7, 8, 9, 10], 'p': [1, 2],\n",
       "                         'weights': ['uniform', 'distance']},\n",
       "             verbose=2)"
      ]
     },
     "execution_count": 102,
     "metadata": {},
     "output_type": "execute_result"
    }
   ],
   "source": [
    "grid_search_knn = GridSearchCV(estimator = knr, param_grid = random_grid, cv = 5, n_jobs = -1, verbose = 2)\n",
    "grid_search_knn.fit(X2_train, y2_train)"
   ]
  },
  {
   "cell_type": "code",
   "execution_count": 103,
   "metadata": {},
   "outputs": [
    {
     "data": {
      "text/plain": [
       "0.05755825734583102"
      ]
     },
     "execution_count": 103,
     "metadata": {},
     "output_type": "execute_result"
    }
   ],
   "source": [
    "grid_search_knn.best_score_"
   ]
  },
  {
   "cell_type": "code",
   "execution_count": 104,
   "metadata": {},
   "outputs": [
    {
     "data": {
      "text/plain": [
       "{'algorithm': 'auto',\n",
       " 'leaf_size': 30,\n",
       " 'n_neighbors': 8,\n",
       " 'p': 1,\n",
       " 'weights': 'uniform'}"
      ]
     },
     "execution_count": 104,
     "metadata": {},
     "output_type": "execute_result"
    }
   ],
   "source": [
    "grid_search_knn.best_params_"
   ]
  },
  {
   "cell_type": "code",
   "execution_count": 106,
   "metadata": {},
   "outputs": [
    {
     "name": "stdout",
     "output_type": "stream",
     "text": [
      "Model Performance\n",
      "MAE: 0.6312784527018633\n",
      "Accuracy = 69.24%.\n"
     ]
    }
   ],
   "source": [
    "best_grid_knn = grid_search_knn.best_estimator_\n",
    "grid_accuracy = evaluate(best_grid_knn, X2_test, y2_test)"
   ]
  },
  {
   "cell_type": "markdown",
   "metadata": {},
   "source": [
    "YU PREDIKSI"
   ]
  },
  {
   "cell_type": "code",
   "execution_count": 35,
   "metadata": {},
   "outputs": [],
   "source": [
    "list_BT = list(np.linspace(\t796343.575758, 807441.424242, num=50))\n",
    "list_LS = list(np.linspace(9685915, 9694504, num=50))\n",
    "\n",
    "list_total_BT = []\n",
    "list_total_LS = []\n",
    "\n",
    "count_BT = 0\n",
    "for i in list_BT:    \n",
    "    while count_BT < 50:\n",
    "        list_total_BT.append(i)\n",
    "        count_BT += 1\n",
    "    count_BT = 0\n",
    "    \n",
    "for i in list_BT:\n",
    "    for j in list_LS:\n",
    "        list_total_LS.append(j)"
   ]
  },
  {
   "cell_type": "code",
   "execution_count": 36,
   "metadata": {},
   "outputs": [
    {
     "data": {
      "text/plain": [
       "2500"
      ]
     },
     "execution_count": 36,
     "metadata": {},
     "output_type": "execute_result"
    }
   ],
   "source": [
    "len(list_total_LS)"
   ]
  },
  {
   "cell_type": "code",
   "execution_count": 37,
   "metadata": {},
   "outputs": [],
   "source": [
    "my_dict = {'BT': list_total_BT,\n",
    "           'LS': list_total_LS}\n",
    "df2 = pd.DataFrame(data=my_dict, columns=['BT', 'LS'])\n",
    "\n",
    "X_predict = df2[['BT', 'LS']]"
   ]
  },
  {
   "cell_type": "code",
   "execution_count": 38,
   "metadata": {},
   "outputs": [],
   "source": [
    "hasil = best_grid_knn.predict(X_predict)"
   ]
  },
  {
   "cell_type": "code",
   "execution_count": 39,
   "metadata": {},
   "outputs": [
    {
     "data": {
      "text/html": [
       "<div>\n",
       "<style scoped>\n",
       "    .dataframe tbody tr th:only-of-type {\n",
       "        vertical-align: middle;\n",
       "    }\n",
       "\n",
       "    .dataframe tbody tr th {\n",
       "        vertical-align: top;\n",
       "    }\n",
       "\n",
       "    .dataframe thead th {\n",
       "        text-align: right;\n",
       "    }\n",
       "</style>\n",
       "<table border=\"1\" class=\"dataframe\">\n",
       "  <thead>\n",
       "    <tr style=\"text-align: right;\">\n",
       "      <th></th>\n",
       "      <th>BT</th>\n",
       "      <th>LS</th>\n",
       "      <th>Th_predicted</th>\n",
       "    </tr>\n",
       "  </thead>\n",
       "  <tbody>\n",
       "    <tr>\n",
       "      <td>0</td>\n",
       "      <td>796343.575758</td>\n",
       "      <td>9.685915e+06</td>\n",
       "      <td>37.615768</td>\n",
       "    </tr>\n",
       "    <tr>\n",
       "      <td>1</td>\n",
       "      <td>796343.575758</td>\n",
       "      <td>9.686090e+06</td>\n",
       "      <td>37.615768</td>\n",
       "    </tr>\n",
       "    <tr>\n",
       "      <td>2</td>\n",
       "      <td>796343.575758</td>\n",
       "      <td>9.686266e+06</td>\n",
       "      <td>37.615768</td>\n",
       "    </tr>\n",
       "    <tr>\n",
       "      <td>3</td>\n",
       "      <td>796343.575758</td>\n",
       "      <td>9.686441e+06</td>\n",
       "      <td>37.615768</td>\n",
       "    </tr>\n",
       "    <tr>\n",
       "      <td>4</td>\n",
       "      <td>796343.575758</td>\n",
       "      <td>9.686616e+06</td>\n",
       "      <td>37.615768</td>\n",
       "    </tr>\n",
       "    <tr>\n",
       "      <td>...</td>\n",
       "      <td>...</td>\n",
       "      <td>...</td>\n",
       "      <td>...</td>\n",
       "    </tr>\n",
       "    <tr>\n",
       "      <td>2495</td>\n",
       "      <td>807441.424242</td>\n",
       "      <td>9.693803e+06</td>\n",
       "      <td>52.522445</td>\n",
       "    </tr>\n",
       "    <tr>\n",
       "      <td>2496</td>\n",
       "      <td>807441.424242</td>\n",
       "      <td>9.693978e+06</td>\n",
       "      <td>52.964134</td>\n",
       "    </tr>\n",
       "    <tr>\n",
       "      <td>2497</td>\n",
       "      <td>807441.424242</td>\n",
       "      <td>9.694153e+06</td>\n",
       "      <td>52.964134</td>\n",
       "    </tr>\n",
       "    <tr>\n",
       "      <td>2498</td>\n",
       "      <td>807441.424242</td>\n",
       "      <td>9.694329e+06</td>\n",
       "      <td>52.964134</td>\n",
       "    </tr>\n",
       "    <tr>\n",
       "      <td>2499</td>\n",
       "      <td>807441.424242</td>\n",
       "      <td>9.694504e+06</td>\n",
       "      <td>52.964134</td>\n",
       "    </tr>\n",
       "  </tbody>\n",
       "</table>\n",
       "<p>2500 rows × 3 columns</p>\n",
       "</div>"
      ],
      "text/plain": [
       "                 BT            LS  Th_predicted\n",
       "0     796343.575758  9.685915e+06     37.615768\n",
       "1     796343.575758  9.686090e+06     37.615768\n",
       "2     796343.575758  9.686266e+06     37.615768\n",
       "3     796343.575758  9.686441e+06     37.615768\n",
       "4     796343.575758  9.686616e+06     37.615768\n",
       "...             ...           ...           ...\n",
       "2495  807441.424242  9.693803e+06     52.522445\n",
       "2496  807441.424242  9.693978e+06     52.964134\n",
       "2497  807441.424242  9.694153e+06     52.964134\n",
       "2498  807441.424242  9.694329e+06     52.964134\n",
       "2499  807441.424242  9.694504e+06     52.964134\n",
       "\n",
       "[2500 rows x 3 columns]"
      ]
     },
     "execution_count": 39,
     "metadata": {},
     "output_type": "execute_result"
    }
   ],
   "source": [
    "dict_baru = {'BT': list_total_BT,\n",
    "             'LS': list_total_LS,\n",
    "             'Th_predicted': hasil}\n",
    "\n",
    "data_baru = pd.DataFrame(data=dict_baru)\n",
    "data_baru"
   ]
  },
  {
   "cell_type": "code",
   "execution_count": 40,
   "metadata": {},
   "outputs": [],
   "source": [
    "data_baru.to_excel('KNN_Th_normal_2500.xlsx')"
   ]
  },
  {
   "cell_type": "markdown",
   "metadata": {},
   "source": [
    "##  Random Forest"
   ]
  },
  {
   "cell_type": "code",
   "execution_count": 21,
   "metadata": {},
   "outputs": [],
   "source": [
    "# Number of trees in random forest\n",
    "n_estimators = [int(x) for x in np.linspace(start = 100, stop = 2000, num = 10)]\n",
    "# Number of features to consider at every split\n",
    "max_features = ['auto', 'sqrt', 'log2']\n",
    "# Maximum number of levels in tree\n",
    "max_depth = [int(x) for x in np.linspace(10, 110, num = 11)]\n",
    "max_depth.append(None)\n",
    "# Minimum number of samples required to split a node\n",
    "min_samples_split = [2, 5, 10]\n",
    "# Minimum number of samples required at each leaf node\n",
    "min_samples_leaf = [1, 2, 4, 6]\n",
    "# Method of selecting samples for training each tree\n",
    "bootstrap = [True, False]\n",
    "# Create the random grid\n",
    "random_grid = {'n_estimators': n_estimators,\n",
    "               'max_features': max_features,\n",
    "               'max_depth': max_depth,\n",
    "               'min_samples_split': min_samples_split,\n",
    "               'min_samples_leaf': min_samples_leaf,\n",
    "               'bootstrap': bootstrap}"
   ]
  },
  {
   "cell_type": "code",
   "execution_count": 79,
   "metadata": {},
   "outputs": [
    {
     "name": "stdout",
     "output_type": "stream",
     "text": [
      "Fitting 5 folds for each of 100 candidates, totalling 500 fits\n"
     ]
    },
    {
     "data": {
      "text/plain": [
       "RandomizedSearchCV(cv=5, estimator=RandomForestRegressor(), n_iter=100,\n",
       "                   n_jobs=-1,\n",
       "                   param_distributions={'bootstrap': [True, False],\n",
       "                                        'max_depth': [10, 20, 30, 40, 50, 60,\n",
       "                                                      70, 80, 90, 100, 110,\n",
       "                                                      None],\n",
       "                                        'max_features': ['auto', 'sqrt',\n",
       "                                                         'log2'],\n",
       "                                        'min_samples_leaf': [1, 2, 4, 6],\n",
       "                                        'min_samples_split': [2, 5, 10],\n",
       "                                        'n_estimators': [100, 311, 522, 733,\n",
       "                                                         944, 1155, 1366, 1577,\n",
       "                                                         1788, 2000]},\n",
       "                   random_state=11, verbose=2)"
      ]
     },
     "execution_count": 79,
     "metadata": {},
     "output_type": "execute_result"
    }
   ],
   "source": [
    "rf = RandomForestRegressor()\n",
    "rf_random = RandomizedSearchCV(estimator = rf, param_distributions = random_grid,\n",
    "                               n_iter = 100, cv = 5, verbose=2, random_state=11,\n",
    "                               n_jobs = -1)\n",
    "\n",
    "# Fit the random search model\n",
    "rf_random.fit(X_train, y_train)"
   ]
  },
  {
   "cell_type": "code",
   "execution_count": 80,
   "metadata": {},
   "outputs": [
    {
     "data": {
      "text/plain": [
       "-0.11910204418231427"
      ]
     },
     "execution_count": 80,
     "metadata": {},
     "output_type": "execute_result"
    }
   ],
   "source": [
    "rf_random.best_score_"
   ]
  },
  {
   "cell_type": "code",
   "execution_count": 81,
   "metadata": {},
   "outputs": [
    {
     "data": {
      "text/plain": [
       "{'n_estimators': 1788,\n",
       " 'min_samples_split': 10,\n",
       " 'min_samples_leaf': 6,\n",
       " 'max_features': 'log2',\n",
       " 'max_depth': 70,\n",
       " 'bootstrap': False}"
      ]
     },
     "execution_count": 81,
     "metadata": {},
     "output_type": "execute_result"
    }
   ],
   "source": [
    "rf_random.best_params_"
   ]
  },
  {
   "cell_type": "code",
   "execution_count": 82,
   "metadata": {},
   "outputs": [
    {
     "name": "stdout",
     "output_type": "stream",
     "text": [
      "Model Performance\n",
      "MAE: 12.808974010309985\n",
      "Accuracy = 66.26%.\n"
     ]
    }
   ],
   "source": [
    "#Evaluasi RandomizedSearchCV\n",
    "def evaluate(model, test_features, test_labels):\n",
    "    predictions = model.predict(test_features)\n",
    "    errors = abs(predictions - test_labels)\n",
    "    mape = 100 * np.mean(errors / test_labels)\n",
    "    accuracy = 100 - mape\n",
    "    print('Model Performance')\n",
    "    print(f'MAE: {mean_absolute_error(test_labels, model.predict(test_features))}')\n",
    "    print('Accuracy = {:0.2f}%.'.format(accuracy))\n",
    "    \n",
    "    return accuracy\n",
    "\n",
    "\n",
    "base_model_rf = RandomForestRegressor(random_state=11)\n",
    "base_model_rf.fit(X_train, y_train)\n",
    "base_accuracy = evaluate(base_model_rf, X_test, y_test)"
   ]
  },
  {
   "cell_type": "code",
   "execution_count": 83,
   "metadata": {},
   "outputs": [
    {
     "name": "stdout",
     "output_type": "stream",
     "text": [
      "Model Performance\n",
      "MAE: 13.254195309623588\n",
      "Accuracy = 65.16%.\n"
     ]
    }
   ],
   "source": [
    "best_random_rf = rf_random.best_estimator_\n",
    "random_accuracy = evaluate(best_random_rf, X_test, y_test)"
   ]
  },
  {
   "cell_type": "code",
   "execution_count": 84,
   "metadata": {},
   "outputs": [
    {
     "data": {
      "text/plain": [
       "-1.0103311016704715"
      ]
     },
     "execution_count": 84,
     "metadata": {},
     "output_type": "execute_result"
    }
   ],
   "source": [
    "best_random_rf.score(X_test, y_test)"
   ]
  },
  {
   "cell_type": "code",
   "execution_count": 85,
   "metadata": {},
   "outputs": [
    {
     "name": "stdout",
     "output_type": "stream",
     "text": [
      "Cross-validation scores (3-fold): [-0.54530904 -0.65474524 -1.53102429  0.05007842  0.10198398]\n",
      "Mean cross-validation score (3-fold): -0.516\n"
     ]
    }
   ],
   "source": [
    "cv_scores = cross_val_score(best_random_rf, X, y)\n",
    "\n",
    "print('Cross-validation scores (3-fold):', cv_scores)\n",
    "print('Mean cross-validation score (3-fold): {:.3f}'\n",
    "     .format(np.mean(cv_scores)))"
   ]
  },
  {
   "cell_type": "markdown",
   "metadata": {},
   "source": [
    "GRID SEARCH"
   ]
  },
  {
   "cell_type": "code",
   "execution_count": 86,
   "metadata": {},
   "outputs": [],
   "source": [
    "# Number of trees in random forest\n",
    "n_estimators = [int(x) for x in np.linspace(start = 100, stop = 200, num = 10)]\n",
    "# Number of features to consider at every split\n",
    "max_features = ['auto', 'sqrt']\n",
    "# Maximum number of levels in tree\n",
    "max_depth = [int(x) for x in np.linspace(10, 60, num = 10)]\n",
    "max_depth.append(None)\n",
    "# Minimum number of samples required to split a node\n",
    "min_samples_split = [2, 5]\n",
    "# Minimum number of samples required at each leaf node\n",
    "min_samples_leaf = [1, 2]\n",
    "# Method of selecting samples for training each tree\n",
    "bootstrap = [True]\n",
    "# Create the random grid\n",
    "random_grid = {'n_estimators': n_estimators,\n",
    "               'max_features': max_features,\n",
    "               'max_depth': max_depth,\n",
    "               'min_samples_split': min_samples_split,\n",
    "               'min_samples_leaf': min_samples_leaf,\n",
    "               'bootstrap': bootstrap}"
   ]
  },
  {
   "cell_type": "code",
   "execution_count": 87,
   "metadata": {},
   "outputs": [
    {
     "name": "stdout",
     "output_type": "stream",
     "text": [
      "Fitting 5 folds for each of 880 candidates, totalling 4400 fits\n"
     ]
    },
    {
     "data": {
      "text/plain": [
       "GridSearchCV(cv=5, estimator=RandomForestRegressor(), n_jobs=-1,\n",
       "             param_grid={'bootstrap': [True],\n",
       "                         'max_depth': [10, 15, 21, 26, 32, 37, 43, 48, 54, 60,\n",
       "                                       None],\n",
       "                         'max_features': ['auto', 'sqrt'],\n",
       "                         'min_samples_leaf': [1, 2],\n",
       "                         'min_samples_split': [2, 5],\n",
       "                         'n_estimators': [100, 111, 122, 133, 144, 155, 166,\n",
       "                                          177, 188, 200]},\n",
       "             verbose=2)"
      ]
     },
     "execution_count": 87,
     "metadata": {},
     "output_type": "execute_result"
    }
   ],
   "source": [
    "grid_search_rf = GridSearchCV(estimator = rf, param_grid = random_grid, cv = 5, n_jobs = -1, verbose = 2)\n",
    "grid_search_rf.fit(X_train, y_train)"
   ]
  },
  {
   "cell_type": "code",
   "execution_count": 88,
   "metadata": {},
   "outputs": [
    {
     "data": {
      "text/plain": [
       "-0.33417996177435405"
      ]
     },
     "execution_count": 88,
     "metadata": {},
     "output_type": "execute_result"
    }
   ],
   "source": [
    "grid_search_rf.best_score_"
   ]
  },
  {
   "cell_type": "code",
   "execution_count": 89,
   "metadata": {},
   "outputs": [
    {
     "data": {
      "text/plain": [
       "{'bootstrap': True,\n",
       " 'max_depth': 48,\n",
       " 'max_features': 'sqrt',\n",
       " 'min_samples_leaf': 2,\n",
       " 'min_samples_split': 5,\n",
       " 'n_estimators': 111}"
      ]
     },
     "execution_count": 89,
     "metadata": {},
     "output_type": "execute_result"
    }
   ],
   "source": [
    "grid_search_rf.best_params_"
   ]
  },
  {
   "cell_type": "code",
   "execution_count": 90,
   "metadata": {},
   "outputs": [
    {
     "name": "stdout",
     "output_type": "stream",
     "text": [
      "Model Performance\n",
      "MAE: 12.764293373456876\n",
      "Accuracy = 66.18%.\n"
     ]
    }
   ],
   "source": [
    "best_grid_rf = grid_search_rf.best_estimator_\n",
    "random_accuracy = evaluate(best_grid_rf, X_test, y_test)"
   ]
  },
  {
   "cell_type": "markdown",
   "metadata": {},
   "source": [
    "DATA REE"
   ]
  },
  {
   "cell_type": "code",
   "execution_count": 23,
   "metadata": {},
   "outputs": [
    {
     "name": "stdout",
     "output_type": "stream",
     "text": [
      "Fitting 5 folds for each of 100 candidates, totalling 500 fits\n"
     ]
    },
    {
     "data": {
      "text/plain": [
       "RandomizedSearchCV(cv=5, estimator=RandomForestRegressor(), n_iter=100,\n",
       "                   n_jobs=-1,\n",
       "                   param_distributions={'bootstrap': [True, False],\n",
       "                                        'max_depth': [10, 20, 30, 40, 50, 60,\n",
       "                                                      70, 80, 90, 100, 110,\n",
       "                                                      None],\n",
       "                                        'max_features': ['auto', 'sqrt',\n",
       "                                                         'log2'],\n",
       "                                        'min_samples_leaf': [1, 2, 4, 6],\n",
       "                                        'min_samples_split': [2, 5, 10],\n",
       "                                        'n_estimators': [100, 311, 522, 733,\n",
       "                                                         944, 1155, 1366, 1577,\n",
       "                                                         1788, 2000]},\n",
       "                   random_state=11, verbose=2)"
      ]
     },
     "execution_count": 23,
     "metadata": {},
     "output_type": "execute_result"
    }
   ],
   "source": [
    "rf = RandomForestRegressor()\n",
    "rf_random_REE = RandomizedSearchCV(estimator = rf, param_distributions = random_grid,\n",
    "                                   n_iter = 100, cv = 5, verbose=2, random_state=11,\n",
    "                                   n_jobs = -1)\n",
    "\n",
    "# Fit the random search model\n",
    "rf_random_REE.fit(X2_train, y2_train)"
   ]
  },
  {
   "cell_type": "code",
   "execution_count": 24,
   "metadata": {},
   "outputs": [
    {
     "data": {
      "text/plain": [
       "-0.011618967936638903"
      ]
     },
     "execution_count": 24,
     "metadata": {},
     "output_type": "execute_result"
    }
   ],
   "source": [
    "rf_random_REE.best_score_"
   ]
  },
  {
   "cell_type": "code",
   "execution_count": 25,
   "metadata": {},
   "outputs": [
    {
     "data": {
      "text/plain": [
       "{'n_estimators': 1155,\n",
       " 'min_samples_split': 10,\n",
       " 'min_samples_leaf': 6,\n",
       " 'max_features': 'log2',\n",
       " 'max_depth': 70,\n",
       " 'bootstrap': False}"
      ]
     },
     "execution_count": 25,
     "metadata": {},
     "output_type": "execute_result"
    }
   ],
   "source": [
    "rf_random_REE.best_params_"
   ]
  },
  {
   "cell_type": "code",
   "execution_count": 26,
   "metadata": {},
   "outputs": [
    {
     "name": "stdout",
     "output_type": "stream",
     "text": [
      "Model Performance\n",
      "MAE: 0.5407886134069138\n",
      "Accuracy = 73.90%.\n"
     ]
    }
   ],
   "source": [
    "#Evaluasi RandomizedSearchCV\n",
    "def evaluate(model, test_features, test_labels):\n",
    "    predictions = model.predict(test_features)\n",
    "    errors = abs(predictions - test_labels)\n",
    "    mape = 100 * np.mean(errors / test_labels)\n",
    "    accuracy = 100 - mape\n",
    "    print('Model Performance')\n",
    "    print(f'MAE: {mean_absolute_error(test_labels, model.predict(test_features))}')\n",
    "    print('Accuracy = {:0.2f}%.'.format(accuracy))\n",
    "    \n",
    "    return accuracy\n",
    "\n",
    "\n",
    "base_model_rf = RandomForestRegressor(random_state=11)\n",
    "base_model_rf.fit(X2_train, y2_train)\n",
    "base_accuracy = evaluate(base_model_rf, X2_test, y2_test)"
   ]
  },
  {
   "cell_type": "code",
   "execution_count": 27,
   "metadata": {},
   "outputs": [
    {
     "name": "stdout",
     "output_type": "stream",
     "text": [
      "Model Performance\n",
      "MAE: 0.6282537496038948\n",
      "Accuracy = 69.13%.\n"
     ]
    }
   ],
   "source": [
    "best_random_rf = rf_random_REE.best_estimator_\n",
    "random_accuracy = evaluate(best_random_rf, X2_test, y2_test)"
   ]
  },
  {
   "cell_type": "markdown",
   "metadata": {},
   "source": [
    "YU PREDIKSI"
   ]
  },
  {
   "cell_type": "code",
   "execution_count": 91,
   "metadata": {},
   "outputs": [],
   "source": [
    "list_BT = list(np.linspace(\t796343.575758, 807441.424242, num=100))\n",
    "list_LS = list(np.linspace(9685915, 9694504, num=100))\n",
    "\n",
    "list_total_BT = []\n",
    "list_total_LS = []\n",
    "\n",
    "count_BT = 0\n",
    "for i in list_BT:    \n",
    "    while count_BT < 100:\n",
    "        list_total_BT.append(i)\n",
    "        count_BT += 1\n",
    "    count_BT = 0\n",
    "    \n",
    "for i in list_BT:\n",
    "    for j in list_LS:\n",
    "        list_total_LS.append(j)"
   ]
  },
  {
   "cell_type": "code",
   "execution_count": 92,
   "metadata": {},
   "outputs": [
    {
     "data": {
      "text/plain": [
       "10000"
      ]
     },
     "execution_count": 92,
     "metadata": {},
     "output_type": "execute_result"
    }
   ],
   "source": [
    "len(list_total_LS)"
   ]
  },
  {
   "cell_type": "code",
   "execution_count": 93,
   "metadata": {},
   "outputs": [],
   "source": [
    "my_dict = {'BT': list_total_BT,\n",
    "           'LS': list_total_LS}\n",
    "df2 = pd.DataFrame(data=my_dict, columns=['BT', 'LS'])\n",
    "\n",
    "X_predict = df2[['BT', 'LS']]"
   ]
  },
  {
   "cell_type": "code",
   "execution_count": 94,
   "metadata": {},
   "outputs": [],
   "source": [
    "hasil = best_grid_rf.predict(X_predict)"
   ]
  },
  {
   "cell_type": "code",
   "execution_count": 95,
   "metadata": {},
   "outputs": [
    {
     "data": {
      "text/html": [
       "<div>\n",
       "<style scoped>\n",
       "    .dataframe tbody tr th:only-of-type {\n",
       "        vertical-align: middle;\n",
       "    }\n",
       "\n",
       "    .dataframe tbody tr th {\n",
       "        vertical-align: top;\n",
       "    }\n",
       "\n",
       "    .dataframe thead th {\n",
       "        text-align: right;\n",
       "    }\n",
       "</style>\n",
       "<table border=\"1\" class=\"dataframe\">\n",
       "  <thead>\n",
       "    <tr style=\"text-align: right;\">\n",
       "      <th></th>\n",
       "      <th>BT</th>\n",
       "      <th>LS</th>\n",
       "      <th>Th_predicted</th>\n",
       "    </tr>\n",
       "  </thead>\n",
       "  <tbody>\n",
       "    <tr>\n",
       "      <td>0</td>\n",
       "      <td>796343.575758</td>\n",
       "      <td>9.685915e+06</td>\n",
       "      <td>44.037520</td>\n",
       "    </tr>\n",
       "    <tr>\n",
       "      <td>1</td>\n",
       "      <td>796343.575758</td>\n",
       "      <td>9.686002e+06</td>\n",
       "      <td>44.037520</td>\n",
       "    </tr>\n",
       "    <tr>\n",
       "      <td>2</td>\n",
       "      <td>796343.575758</td>\n",
       "      <td>9.686089e+06</td>\n",
       "      <td>44.037520</td>\n",
       "    </tr>\n",
       "    <tr>\n",
       "      <td>3</td>\n",
       "      <td>796343.575758</td>\n",
       "      <td>9.686175e+06</td>\n",
       "      <td>44.037520</td>\n",
       "    </tr>\n",
       "    <tr>\n",
       "      <td>4</td>\n",
       "      <td>796343.575758</td>\n",
       "      <td>9.686262e+06</td>\n",
       "      <td>44.037520</td>\n",
       "    </tr>\n",
       "    <tr>\n",
       "      <td>...</td>\n",
       "      <td>...</td>\n",
       "      <td>...</td>\n",
       "      <td>...</td>\n",
       "    </tr>\n",
       "    <tr>\n",
       "      <td>9995</td>\n",
       "      <td>807441.424242</td>\n",
       "      <td>9.694157e+06</td>\n",
       "      <td>59.800626</td>\n",
       "    </tr>\n",
       "    <tr>\n",
       "      <td>9996</td>\n",
       "      <td>807441.424242</td>\n",
       "      <td>9.694244e+06</td>\n",
       "      <td>59.800626</td>\n",
       "    </tr>\n",
       "    <tr>\n",
       "      <td>9997</td>\n",
       "      <td>807441.424242</td>\n",
       "      <td>9.694330e+06</td>\n",
       "      <td>59.800626</td>\n",
       "    </tr>\n",
       "    <tr>\n",
       "      <td>9998</td>\n",
       "      <td>807441.424242</td>\n",
       "      <td>9.694417e+06</td>\n",
       "      <td>59.800626</td>\n",
       "    </tr>\n",
       "    <tr>\n",
       "      <td>9999</td>\n",
       "      <td>807441.424242</td>\n",
       "      <td>9.694504e+06</td>\n",
       "      <td>59.800626</td>\n",
       "    </tr>\n",
       "  </tbody>\n",
       "</table>\n",
       "<p>10000 rows × 3 columns</p>\n",
       "</div>"
      ],
      "text/plain": [
       "                 BT            LS  Th_predicted\n",
       "0     796343.575758  9.685915e+06     44.037520\n",
       "1     796343.575758  9.686002e+06     44.037520\n",
       "2     796343.575758  9.686089e+06     44.037520\n",
       "3     796343.575758  9.686175e+06     44.037520\n",
       "4     796343.575758  9.686262e+06     44.037520\n",
       "...             ...           ...           ...\n",
       "9995  807441.424242  9.694157e+06     59.800626\n",
       "9996  807441.424242  9.694244e+06     59.800626\n",
       "9997  807441.424242  9.694330e+06     59.800626\n",
       "9998  807441.424242  9.694417e+06     59.800626\n",
       "9999  807441.424242  9.694504e+06     59.800626\n",
       "\n",
       "[10000 rows x 3 columns]"
      ]
     },
     "execution_count": 95,
     "metadata": {},
     "output_type": "execute_result"
    }
   ],
   "source": [
    "dict_baru = {'BT': list_total_BT,\n",
    "             'LS': list_total_LS,\n",
    "             'Th_predicted': hasil}\n",
    "\n",
    "data_baru = pd.DataFrame(data=dict_baru)\n",
    "data_baru"
   ]
  },
  {
   "cell_type": "code",
   "execution_count": 96,
   "metadata": {},
   "outputs": [],
   "source": [
    "data_baru.to_excel('RF_Th_normal.xlsx')"
   ]
  },
  {
   "cell_type": "markdown",
   "metadata": {},
   "source": [
    "## NN "
   ]
  },
  {
   "cell_type": "code",
   "execution_count": 69,
   "metadata": {},
   "outputs": [],
   "source": [
    "params = {'activation':['logistic', 'relu'],\n",
    "          'learning_rate':['adaptive', 'constant', 'invscaling'],\n",
    "          'solver':['lbfgs', 'adam'],\n",
    "          #'alpha':np.logspace(0.0001, 0.01, 0.1, 10, 100),\n",
    "          'alpha':[0.0001, 0.01, 0.1, 10, 100],\n",
    "          'max_iter':[1000],\n",
    "          'random_state':[11],\n",
    "          'hidden_layer_sizes':[(10,10), (50,20), (10, 100), (100, 100), (50, 50)]}"
   ]
  },
  {
   "cell_type": "code",
   "execution_count": 70,
   "metadata": {},
   "outputs": [
    {
     "name": "stdout",
     "output_type": "stream",
     "text": [
      "Fitting 5 folds for each of 100 candidates, totalling 500 fits\n"
     ]
    },
    {
     "data": {
      "text/plain": [
       "RandomizedSearchCV(cv=5, estimator=MLPRegressor(), n_iter=100, n_jobs=-1,\n",
       "                   param_distributions={'activation': ['logistic', 'relu'],\n",
       "                                        'alpha': [0.0001, 0.01, 0.1, 10, 100],\n",
       "                                        'hidden_layer_sizes': [(10, 10),\n",
       "                                                               (50, 20),\n",
       "                                                               (10, 100),\n",
       "                                                               (100, 100),\n",
       "                                                               (50, 50)],\n",
       "                                        'learning_rate': ['adaptive',\n",
       "                                                          'constant',\n",
       "                                                          'invscaling'],\n",
       "                                        'max_iter': [1000],\n",
       "                                        'random_state': [11],\n",
       "                                        'solver': ['lbfgs', 'adam']},\n",
       "                   random_state=11, verbose=2)"
      ]
     },
     "execution_count": 70,
     "metadata": {},
     "output_type": "execute_result"
    }
   ],
   "source": [
    "mlpreg = MLPRegressor()\n",
    "mlp_random = RandomizedSearchCV(estimator = mlpreg, param_distributions = params,\n",
    "                                n_iter = 100, cv = 5, verbose=2, random_state=11,\n",
    "                                n_jobs = -1)\n",
    "\n",
    "# Fit the random search model\n",
    "mlp_random.fit(X_train, y_train)"
   ]
  },
  {
   "cell_type": "code",
   "execution_count": 71,
   "metadata": {},
   "outputs": [
    {
     "data": {
      "text/plain": [
       "0.05231893386251636"
      ]
     },
     "execution_count": 71,
     "metadata": {},
     "output_type": "execute_result"
    }
   ],
   "source": [
    "mlp_random.best_score_"
   ]
  },
  {
   "cell_type": "code",
   "execution_count": 72,
   "metadata": {},
   "outputs": [
    {
     "data": {
      "text/plain": [
       "{'solver': 'lbfgs',\n",
       " 'random_state': 11,\n",
       " 'max_iter': 1000,\n",
       " 'learning_rate': 'adaptive',\n",
       " 'hidden_layer_sizes': (50, 20),\n",
       " 'alpha': 0.01,\n",
       " 'activation': 'logistic'}"
      ]
     },
     "execution_count": 72,
     "metadata": {},
     "output_type": "execute_result"
    }
   ],
   "source": [
    "mlp_random.best_params_"
   ]
  },
  {
   "cell_type": "code",
   "execution_count": 73,
   "metadata": {},
   "outputs": [
    {
     "name": "stdout",
     "output_type": "stream",
     "text": [
      "Model Performance\n",
      "MAE: 357165.5909031151\n",
      "Accuracy = -858779.91%.\n"
     ]
    }
   ],
   "source": [
    "#Evaluasi RandomizedSearchCV\n",
    "def evaluate(model, test_features, test_labels):\n",
    "    predictions = model.predict(test_features)\n",
    "    errors = abs(predictions - test_labels)\n",
    "    mape = 100 * np.mean(errors / test_labels)\n",
    "    accuracy = 100 - mape\n",
    "    print('Model Performance')\n",
    "    print(f'MAE: {mean_absolute_error(test_labels, model.predict(test_features))}')\n",
    "    print('Accuracy = {:0.2f}%.'.format(accuracy))\n",
    "    \n",
    "    return accuracy\n",
    "\n",
    "\n",
    "base_model_nn = MLPRegressor(random_state=11)\n",
    "base_model_nn.fit(X_train, y_train)\n",
    "base_accuracy = evaluate(base_model_nn, X_test, y_test)"
   ]
  },
  {
   "cell_type": "code",
   "execution_count": 74,
   "metadata": {},
   "outputs": [
    {
     "name": "stdout",
     "output_type": "stream",
     "text": [
      "Model Performance\n",
      "MAE: 9.384474574726639\n",
      "Accuracy = 73.03%.\n"
     ]
    }
   ],
   "source": [
    "best_random_nn = mlp_random.best_estimator_\n",
    "base_accuracy = evaluate(best_random_nn, X_test, y_test)"
   ]
  },
  {
   "cell_type": "code",
   "execution_count": 75,
   "metadata": {},
   "outputs": [
    {
     "data": {
      "text/plain": [
       "-0.08984918800760777"
      ]
     },
     "execution_count": 75,
     "metadata": {},
     "output_type": "execute_result"
    }
   ],
   "source": [
    "best_random_nn.score(X_test, y_test)"
   ]
  },
  {
   "cell_type": "markdown",
   "metadata": {},
   "source": [
    "GRID SEARCH"
   ]
  },
  {
   "cell_type": "code",
   "execution_count": 104,
   "metadata": {},
   "outputs": [
    {
     "name": "stdout",
     "output_type": "stream",
     "text": [
      "Fitting 5 folds for each of 200 candidates, totalling 1000 fits\n"
     ]
    },
    {
     "data": {
      "text/plain": [
       "GridSearchCV(cv=5, estimator=MLPRegressor(), n_jobs=-1,\n",
       "             param_grid={'activation': ['logistic', 'relu'],\n",
       "                         'alpha': array([1.00023029, 1.00276692, 1.00530999, 1.00785951, 1.0104155 ,\n",
       "       1.01297797, 1.01554694, 1.01812242, 1.02070443, 1.02329299]),\n",
       "                         'hidden_layer_sizes': [(10, 10), (50, 20), (10, 100),\n",
       "                                                (100, 100), (50, 50)],\n",
       "                         'learning_rate': ['adaptive'], 'max_iter': [1000],\n",
       "                         'random_state': [11], 'solver': ['lbfgs', 'adam']},\n",
       "             verbose=2)"
      ]
     },
     "execution_count": 104,
     "metadata": {},
     "output_type": "execute_result"
    }
   ],
   "source": [
    "grid_search_nn = GridSearchCV(estimator = mlpreg, param_grid = params, cv = 5, n_jobs = -1, verbose = 2)\n",
    "grid_search_nn.fit(X_train, y_train)"
   ]
  },
  {
   "cell_type": "code",
   "execution_count": 105,
   "metadata": {},
   "outputs": [
    {
     "data": {
      "text/plain": [
       "0.13673733530396343"
      ]
     },
     "execution_count": 105,
     "metadata": {},
     "output_type": "execute_result"
    }
   ],
   "source": [
    "grid_search_nn.best_score_"
   ]
  },
  {
   "cell_type": "code",
   "execution_count": 106,
   "metadata": {},
   "outputs": [
    {
     "data": {
      "text/plain": [
       "{'activation': 'logistic',\n",
       " 'alpha': 1.012977968760102,\n",
       " 'hidden_layer_sizes': (10, 100),\n",
       " 'learning_rate': 'adaptive',\n",
       " 'max_iter': 1000,\n",
       " 'random_state': 11,\n",
       " 'solver': 'lbfgs'}"
      ]
     },
     "execution_count": 106,
     "metadata": {},
     "output_type": "execute_result"
    }
   ],
   "source": [
    "grid_search_nn.best_params_"
   ]
  },
  {
   "cell_type": "code",
   "execution_count": 107,
   "metadata": {},
   "outputs": [
    {
     "name": "stdout",
     "output_type": "stream",
     "text": [
      "Model Performance\n",
      "MAE: 14.007496795218747\n",
      "Accuracy = 62.73%.\n"
     ]
    }
   ],
   "source": [
    "best_grid_nn = grid_search_nn.best_estimator_\n",
    "grid_accuracy = evaluate(best_grid_nn, X_test, y_test)"
   ]
  },
  {
   "cell_type": "markdown",
   "metadata": {},
   "source": [
    "DATA REE"
   ]
  },
  {
   "cell_type": "code",
   "execution_count": 68,
   "metadata": {},
   "outputs": [
    {
     "name": "stdout",
     "output_type": "stream",
     "text": [
      "Fitting 5 folds for each of 100 candidates, totalling 500 fits\n"
     ]
    },
    {
     "data": {
      "text/plain": [
       "RandomizedSearchCV(cv=5, estimator=MLPRegressor(), n_iter=100, n_jobs=-1,\n",
       "                   param_distributions={'activation': ['logistic', 'relu'],\n",
       "                                        'alpha': [0.0001, 0.01, 0.1, 10, 100],\n",
       "                                        'hidden_layer_sizes': [(10, 10),\n",
       "                                                               (50, 20),\n",
       "                                                               (10, 100),\n",
       "                                                               (100, 100),\n",
       "                                                               (50, 50)],\n",
       "                                        'learning_rate': ['adaptive',\n",
       "                                                          'constant',\n",
       "                                                          'invscaling'],\n",
       "                                        'max_iter': [1000],\n",
       "                                        'random_state': [11],\n",
       "                                        'solver': ['lbfgs', 'adam']},\n",
       "                   random_state=11, verbose=2)"
      ]
     },
     "execution_count": 68,
     "metadata": {},
     "output_type": "execute_result"
    }
   ],
   "source": [
    "mlpreg = MLPRegressor()\n",
    "mlp_random_REE = RandomizedSearchCV(estimator = mlpreg, param_distributions = params,\n",
    "                                    n_iter = 100, cv = 5, verbose=2, random_state=11,\n",
    "                                    n_jobs = -1)\n",
    "\n",
    "# Fit the random search model\n",
    "mlp_random_REE.fit(X2_train, y2_train)"
   ]
  },
  {
   "cell_type": "code",
   "execution_count": 59,
   "metadata": {},
   "outputs": [
    {
     "data": {
      "text/plain": [
       "-0.10246162955066258"
      ]
     },
     "execution_count": 59,
     "metadata": {},
     "output_type": "execute_result"
    }
   ],
   "source": [
    "mlp_random_REE.best_score_"
   ]
  },
  {
   "cell_type": "code",
   "execution_count": 60,
   "metadata": {},
   "outputs": [
    {
     "data": {
      "text/plain": [
       "{'solver': 'lbfgs',\n",
       " 'random_state': 11,\n",
       " 'max_iter': 1000,\n",
       " 'learning_rate': 'invscaling',\n",
       " 'hidden_layer_sizes': (50, 20),\n",
       " 'alpha': 0.1,\n",
       " 'activation': 'logistic'}"
      ]
     },
     "execution_count": 60,
     "metadata": {},
     "output_type": "execute_result"
    }
   ],
   "source": [
    "mlp_random_REE.best_params_"
   ]
  },
  {
   "cell_type": "code",
   "execution_count": 61,
   "metadata": {},
   "outputs": [
    {
     "name": "stdout",
     "output_type": "stream",
     "text": [
      "Model Performance\n",
      "MAE: 357153.20961825026\n",
      "Accuracy = -16625315.47%.\n"
     ]
    }
   ],
   "source": [
    "#Evaluasi RandomizedSearchCV\n",
    "def evaluate(model, test_features, test_labels):\n",
    "    predictions = model.predict(test_features)\n",
    "    errors = abs(predictions - test_labels)\n",
    "    mape = 100 * np.mean(errors / test_labels)\n",
    "    accuracy = 100 - mape\n",
    "    print('Model Performance')\n",
    "    print(f'MAE: {mean_absolute_error(test_labels, model.predict(test_features))}')\n",
    "    print('Accuracy = {:0.2f}%.'.format(accuracy))\n",
    "    \n",
    "    return accuracy\n",
    "\n",
    "\n",
    "base_model_nn = MLPRegressor(random_state=11)\n",
    "base_model_nn.fit(X2_train, y2_train)\n",
    "base_accuracy = evaluate(base_model_nn, X2_test, y2_test)"
   ]
  },
  {
   "cell_type": "code",
   "execution_count": 62,
   "metadata": {},
   "outputs": [
    {
     "name": "stdout",
     "output_type": "stream",
     "text": [
      "Model Performance\n",
      "MAE: 0.5846830173683669\n",
      "Accuracy = 70.29%.\n"
     ]
    }
   ],
   "source": [
    "best_random_nn = mlp_random_REE.best_estimator_\n",
    "base_accuracy = evaluate(best_random_nn, X2_test, y2_test)"
   ]
  },
  {
   "cell_type": "markdown",
   "metadata": {},
   "source": [
    "YU PREDIKSI"
   ]
  },
  {
   "cell_type": "code",
   "execution_count": 76,
   "metadata": {},
   "outputs": [],
   "source": [
    "list_BT = list(np.linspace(\t796343.575758, 807441.424242, num=100))\n",
    "list_LS = list(np.linspace(9685915, 9694504, num=100))\n",
    "\n",
    "list_total_BT = []\n",
    "list_total_LS = []\n",
    "\n",
    "count_BT = 0\n",
    "for i in list_BT:    \n",
    "    while count_BT < 100:\n",
    "        list_total_BT.append(i)\n",
    "        count_BT += 1\n",
    "    count_BT = 0\n",
    "    \n",
    "for i in list_BT:\n",
    "    for j in list_LS:\n",
    "        list_total_LS.append(j)"
   ]
  },
  {
   "cell_type": "code",
   "execution_count": 77,
   "metadata": {},
   "outputs": [],
   "source": [
    "my_dict = {'BT': list_total_BT,\n",
    "           'LS': list_total_LS}\n",
    "df2 = pd.DataFrame(data=my_dict, columns=['BT', 'LS'])\n",
    "\n",
    "X_predict = df2[['BT', 'LS']]"
   ]
  },
  {
   "cell_type": "code",
   "execution_count": 78,
   "metadata": {},
   "outputs": [],
   "source": [
    "hasil = best_random_nn.predict(X_predict)"
   ]
  },
  {
   "cell_type": "code",
   "execution_count": 79,
   "metadata": {},
   "outputs": [
    {
     "data": {
      "text/html": [
       "<div>\n",
       "<style scoped>\n",
       "    .dataframe tbody tr th:only-of-type {\n",
       "        vertical-align: middle;\n",
       "    }\n",
       "\n",
       "    .dataframe tbody tr th {\n",
       "        vertical-align: top;\n",
       "    }\n",
       "\n",
       "    .dataframe thead th {\n",
       "        text-align: right;\n",
       "    }\n",
       "</style>\n",
       "<table border=\"1\" class=\"dataframe\">\n",
       "  <thead>\n",
       "    <tr style=\"text-align: right;\">\n",
       "      <th></th>\n",
       "      <th>BT</th>\n",
       "      <th>LS</th>\n",
       "      <th>REE_predicted</th>\n",
       "    </tr>\n",
       "  </thead>\n",
       "  <tbody>\n",
       "    <tr>\n",
       "      <td>0</td>\n",
       "      <td>796343.575758</td>\n",
       "      <td>9.685915e+06</td>\n",
       "      <td>48.474156</td>\n",
       "    </tr>\n",
       "    <tr>\n",
       "      <td>1</td>\n",
       "      <td>796343.575758</td>\n",
       "      <td>9.686002e+06</td>\n",
       "      <td>48.474157</td>\n",
       "    </tr>\n",
       "    <tr>\n",
       "      <td>2</td>\n",
       "      <td>796343.575758</td>\n",
       "      <td>9.686089e+06</td>\n",
       "      <td>48.474157</td>\n",
       "    </tr>\n",
       "    <tr>\n",
       "      <td>3</td>\n",
       "      <td>796343.575758</td>\n",
       "      <td>9.686175e+06</td>\n",
       "      <td>48.474157</td>\n",
       "    </tr>\n",
       "    <tr>\n",
       "      <td>4</td>\n",
       "      <td>796343.575758</td>\n",
       "      <td>9.686262e+06</td>\n",
       "      <td>48.474157</td>\n",
       "    </tr>\n",
       "    <tr>\n",
       "      <td>...</td>\n",
       "      <td>...</td>\n",
       "      <td>...</td>\n",
       "      <td>...</td>\n",
       "    </tr>\n",
       "    <tr>\n",
       "      <td>9995</td>\n",
       "      <td>807441.424242</td>\n",
       "      <td>9.694157e+06</td>\n",
       "      <td>48.474220</td>\n",
       "    </tr>\n",
       "    <tr>\n",
       "      <td>9996</td>\n",
       "      <td>807441.424242</td>\n",
       "      <td>9.694244e+06</td>\n",
       "      <td>48.474220</td>\n",
       "    </tr>\n",
       "    <tr>\n",
       "      <td>9997</td>\n",
       "      <td>807441.424242</td>\n",
       "      <td>9.694330e+06</td>\n",
       "      <td>48.474221</td>\n",
       "    </tr>\n",
       "    <tr>\n",
       "      <td>9998</td>\n",
       "      <td>807441.424242</td>\n",
       "      <td>9.694417e+06</td>\n",
       "      <td>48.474221</td>\n",
       "    </tr>\n",
       "    <tr>\n",
       "      <td>9999</td>\n",
       "      <td>807441.424242</td>\n",
       "      <td>9.694504e+06</td>\n",
       "      <td>48.474221</td>\n",
       "    </tr>\n",
       "  </tbody>\n",
       "</table>\n",
       "<p>10000 rows × 3 columns</p>\n",
       "</div>"
      ],
      "text/plain": [
       "                 BT            LS  REE_predicted\n",
       "0     796343.575758  9.685915e+06      48.474156\n",
       "1     796343.575758  9.686002e+06      48.474157\n",
       "2     796343.575758  9.686089e+06      48.474157\n",
       "3     796343.575758  9.686175e+06      48.474157\n",
       "4     796343.575758  9.686262e+06      48.474157\n",
       "...             ...           ...            ...\n",
       "9995  807441.424242  9.694157e+06      48.474220\n",
       "9996  807441.424242  9.694244e+06      48.474220\n",
       "9997  807441.424242  9.694330e+06      48.474221\n",
       "9998  807441.424242  9.694417e+06      48.474221\n",
       "9999  807441.424242  9.694504e+06      48.474221\n",
       "\n",
       "[10000 rows x 3 columns]"
      ]
     },
     "execution_count": 79,
     "metadata": {},
     "output_type": "execute_result"
    }
   ],
   "source": [
    "dict_baru = {'BT': list_total_BT,\n",
    "             'LS': list_total_LS,\n",
    "             'REE_predicted': hasil}\n",
    "\n",
    "data_baru = pd.DataFrame(data=dict_baru)\n",
    "data_baru"
   ]
  },
  {
   "cell_type": "code",
   "execution_count": 80,
   "metadata": {},
   "outputs": [],
   "source": [
    "data_baru.to_excel('NN_Th_normal.xlsx')"
   ]
  },
  {
   "cell_type": "markdown",
   "metadata": {},
   "source": [
    "## SVR"
   ]
  },
  {
   "cell_type": "code",
   "execution_count": 12,
   "metadata": {},
   "outputs": [],
   "source": [
    "params = {'kernel':['linear', 'poly', 'rbf'],\n",
    "          'degree':[2, 3, 4],\n",
    "          'gamma':['scale', 'auto'],\n",
    "          'shrinking':[True, False],\n",
    "          #'C':[1, 2],\n",
    "          'verbose':[True, False]}"
   ]
  },
  {
   "cell_type": "code",
   "execution_count": null,
   "metadata": {},
   "outputs": [
    {
     "name": "stderr",
     "output_type": "stream",
     "text": [
      "C:\\Users\\Alvin H\\AppData\\Roaming\\Python\\Python37\\site-packages\\sklearn\\model_selection\\_search.py:289: UserWarning: The total space of parameters 72 is smaller than n_iter=100. Running 72 iterations. For exhaustive searches, use GridSearchCV.\n",
      "  % (grid_size, self.n_iter, grid_size), UserWarning)\n"
     ]
    },
    {
     "name": "stdout",
     "output_type": "stream",
     "text": [
      "Fitting 4 folds for each of 72 candidates, totalling 288 fits\n"
     ]
    }
   ],
   "source": [
    "svr = SVR()\n",
    "svr_random_Th = RandomizedSearchCV(estimator = svr, param_distributions = params,\n",
    "                                   n_iter = 100, cv = 4, verbose=2, random_state=11,\n",
    "                                   n_jobs = -1)\n",
    "\n",
    "svr_random_Th.fit(X_train, y_train)"
   ]
  },
  {
   "cell_type": "code",
   "execution_count": null,
   "metadata": {},
   "outputs": [],
   "source": [
    "svr_random_Th.best_score_"
   ]
  },
  {
   "cell_type": "code",
   "execution_count": null,
   "metadata": {},
   "outputs": [],
   "source": [
    "svr_random_Th.best_params_"
   ]
  },
  {
   "cell_type": "code",
   "execution_count": null,
   "metadata": {},
   "outputs": [],
   "source": [
    "#Evaluasi RandomizedSearchCV\n",
    "def evaluate(model, test_features, test_labels):\n",
    "    predictions = model.predict(test_features)\n",
    "    errors = abs(predictions - test_labels)\n",
    "    mape = 100 * np.mean(errors / test_labels)\n",
    "    accuracy = 100 - mape\n",
    "    print('Model Performance')\n",
    "    print(f'MAE: {mean_absolute_error(test_labels, model.predict(test_features))}')\n",
    "    print('Accuracy = {:0.2f}%.'.format(accuracy))\n",
    "    \n",
    "    return accuracy\n",
    "\n",
    "\n",
    "base_model_svr = svr\n",
    "base_model_svr.fit(X_train, y_train)\n",
    "base_accuracy = evaluate(base_model_svr, X_test, y_test)"
   ]
  },
  {
   "cell_type": "code",
   "execution_count": null,
   "metadata": {},
   "outputs": [],
   "source": [
    "best_random_svr = svr_random_Th.best_estimator_\n",
    "base_accuracy = evaluate(best_random_svr, X_test, y_test)"
   ]
  }
 ],
 "metadata": {
  "kernelspec": {
   "display_name": "Python 3",
   "language": "python",
   "name": "python3"
  },
  "language_info": {
   "codemirror_mode": {
    "name": "ipython",
    "version": 3
   },
   "file_extension": ".py",
   "mimetype": "text/x-python",
   "name": "python",
   "nbconvert_exporter": "python",
   "pygments_lexer": "ipython3",
   "version": "3.7.4"
  }
 },
 "nbformat": 4,
 "nbformat_minor": 2
}
